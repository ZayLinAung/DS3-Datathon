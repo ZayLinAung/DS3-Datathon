{
 "cells": [
  {
   "cell_type": "markdown",
   "id": "91cf47c5-a35e-4d1b-9739-35ae248fe823",
   "metadata": {},
   "source": [
    "### Importing Libraries"
   ]
  },
  {
   "cell_type": "code",
   "execution_count": 53,
   "id": "69176d0f-6a2f-42ba-bac4-40816cc47d8d",
   "metadata": {},
   "outputs": [],
   "source": [
    "import pandas as pd \n",
    "import numpy as np\n",
    "from sklearn.model_selection import train_test_split\n",
    "from sklearn.preprocessing import StandardScaler\n",
    "from sklearn.ensemble import RandomForestClassifier\n",
    "from sklearn.tree import DecisionTreeClassifier\n",
    "from sklearn.metrics import confusion_matrix, balanced_accuracy_score, f1_score\n",
    "from imblearn.over_sampling import RandomOverSampler, SMOTE\n",
    "from imblearn.under_sampling import RandomUnderSampler\n",
    "from imblearn.ensemble import BalancedRandomForestClassifier\n",
    "from sklearn.datasets import make_classification\n",
    "from tensorflow import keras\n",
    "import matplotlib.pyplot as plt\n",
    "from matplotlib import style\n",
    "style.use('ggplot')"
   ]
  },
  {
   "cell_type": "markdown",
   "id": "37128a27-23c7-4cd3-9fa2-ea15dd67ef3a",
   "metadata": {},
   "source": [
    "### Read and Split the Data"
   ]
  },
  {
   "cell_type": "code",
   "execution_count": 54,
   "id": "f07549c8-34d0-461a-a9e2-8a4a7b2e09bd",
   "metadata": {},
   "outputs": [],
   "source": [
    "#Creating Dataset and including the first row by setting no header as input\n",
    "dataset = pd.DataFrame()\n",
    "dataset = pd.read_csv('celestial_train.csv')\n",
    "\n",
    "# Retrieve for test data\n",
    "output_data = pd.read_csv('celestial_test.csv')\n",
    "output_data = output_data.iloc[:,1:]\n",
    "\n",
    "X = dataset.iloc[:,1:17].values\n",
    "y = dataset.iloc[:,17].values\n",
    "\n",
    "\n",
    "X_train, X_test, y_train, y_test = train_test_split(X, y, test_size = 0.25, random_state = 21)"
   ]
  },
  {
   "cell_type": "markdown",
   "id": "dc8c3e77-8dd5-4176-a5c4-dcad7491621a",
   "metadata": {},
   "source": [
    "### Balance and scale the dataset"
   ]
  },
  {
   "cell_type": "code",
   "execution_count": 55,
   "id": "732b546d-5c20-403e-a840-a7ac586b84c2",
   "metadata": {},
   "outputs": [],
   "source": [
    "\n",
    "# Feature Scaling\n",
    "scaler = StandardScaler()\n",
    "X_train = scaler.fit_transform(X_train)\n",
    "X_test = scaler.transform(X_test)\n",
    "\n",
    "output_transform = scaler.fit_transform(output_data)\n",
    "\n",
    "# Use RandomUnderSampler to undersample the majority class\n",
    "# Apply random under-sampling\n",
    "sm = SMOTE(random_state = 2)\n",
    "X_train_balanced, y_train_balanced = sm.fit_resample(X_train, y_train)"
   ]
  },
  {
   "cell_type": "markdown",
   "id": "78c83d75-8251-49b0-95e9-2b9eefde00cc",
   "metadata": {},
   "source": [
    "### Train the Model"
   ]
  },
  {
   "cell_type": "code",
   "execution_count": 56,
   "id": "a2aba639-060d-4e6b-a769-c9cd74df271d",
   "metadata": {
    "scrolled": true
   },
   "outputs": [
    {
     "name": "stdout",
     "output_type": "stream",
     "text": [
      "0.91640179470651\n",
      "['QSO' 'GALAXY' 'QSO' ... 'QSO' 'QSO' 'QSO']\n"
     ]
    }
   ],
   "source": [
    "# Fitting Random Forest Classification to the Training set\n",
    "classifier = RandomForestClassifier(class_weight = {'GALAXY': 1, 'QSO': 10, 'STAR': 100 }, criterion = 'gini', n_estimators = 100, max_depth = 9, random_state=42, max_features = 2)\n",
    "classifier.fit(X_train_balanced, y_train_balanced)\n",
    "\n",
    "# Predicting the Test set results\n",
    "y_pred = classifier.predict(X_test)\n",
    "\n",
    "print(balanced_accuracy_score(y_test, y_pred))\n",
    "\n",
    "test_prediction = classifier.predict(output_transform)\n",
    "print(test_prediction)\n",
    "result = pd.DataFrame({'id': range(50000, 100000), 'output': test_prediction})\n",
    "result.to_csv('celestial_submission.csv', index=False)"
   ]
  },
  {
   "cell_type": "code",
   "execution_count": 57,
   "id": "2d48a36b-a563-42dc-a9fd-bca6cde8fb3d",
   "metadata": {},
   "outputs": [
    {
     "data": {
      "text/plain": [
       "(array([22851., 22896.,  4253.]),\n",
       " array([0.        , 0.66666667, 1.33333333, 2.        ]),\n",
       " <BarContainer object of 3 artists>)"
      ]
     },
     "execution_count": 57,
     "metadata": {},
     "output_type": "execute_result"
    },
    {
     "data": {
      "image/png": "[encoded data removed]",
      "text/plain": [
       "<Figure size 640x480 with 1 Axes>"
      ]
     },
     "metadata": {},
     "output_type": "display_data"
    }
   ],
   "source": [
    "fig=plt.figure()\n",
    "ax=fig.add_subplot(1,1,1)\n",
    "ax.hist(test_prediction,bins=3,rwidth=0.85)"
   ]
  },
  {
   "cell_type": "code",
   "execution_count": null,
   "id": "a6a0e609-4d95-4510-b08c-58a5ce09efec",
   "metadata": {},
   "outputs": [],
   "source": []
  },
  {
   "cell_type": "code",
   "execution_count": null,
   "id": "61e85991-3c0c-4ba6-b94c-bd3ec2d770f0",
   "metadata": {},
   "outputs": [],
   "source": []
  },
  {
   "cell_type": "code",
   "execution_count": null,
   "id": "c0c1938e-3232-4240-9929-5c00a5251ff3",
   "metadata": {},
   "outputs": [],
   "source": []
  },
  {
   "cell_type": "code",
   "execution_count": null,
   "id": "a5e26dcf-eeae-45a1-943f-cb95ae7fd6f9",
   "metadata": {},
   "outputs": [],
   "source": []
  }
 ],
 "metadata": {
  "kernelspec": {
   "display_name": "Python 3 (ipykernel)",
   "language": "python",
   "name": "python3"
  },
  "language_info": {
   "codemirror_mode": {
    "name": "ipython",
    "version": 3
   },
   "file_extension": ".py",
   "mimetype": "text/x-python",
   "name": "python",
   "nbconvert_exporter": "python",
   "pygments_lexer": "ipython3",
   "version": "3.11.5"
  }
 },
 "nbformat": 4,
 "nbformat_minor": 5
}
